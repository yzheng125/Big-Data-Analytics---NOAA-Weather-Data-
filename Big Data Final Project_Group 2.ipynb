{
 "cells": [
  {
   "cell_type": "markdown",
   "metadata": {},
   "source": [
    "## Final Project \n",
    "https://www.kaggle.com/noaa/gsod"
   ]
  },
  {
   "cell_type": "code",
   "execution_count": 1,
   "metadata": {},
   "outputs": [],
   "source": [
    "import findspark\n",
    "findspark.init()"
   ]
  },
  {
   "cell_type": "code",
   "execution_count": 2,
   "metadata": {},
   "outputs": [],
   "source": [
    "from pyspark.sql import SparkSession"
   ]
  },
  {
   "cell_type": "code",
   "execution_count": 3,
   "metadata": {},
   "outputs": [],
   "source": [
    "spark = SparkSession.builder.appName(\"noaa\").getOrCreate()"
   ]
  },
  {
   "cell_type": "code",
   "execution_count": 4,
   "metadata": {},
   "outputs": [
    {
     "data": {
      "text/html": [
       "\n",
       "            <div>\n",
       "                <p><b>SparkSession - in-memory</b></p>\n",
       "                \n",
       "        <div>\n",
       "            <p><b>SparkContext</b></p>\n",
       "\n",
       "            <p><a href=\"http://ip-172-31-76-199.ec2.internal:4040\">Spark UI</a></p>\n",
       "\n",
       "            <dl>\n",
       "              <dt>Version</dt>\n",
       "                <dd><code>v2.4.4</code></dd>\n",
       "              <dt>Master</dt>\n",
       "                <dd><code>yarn</code></dd>\n",
       "              <dt>AppName</dt>\n",
       "                <dd><code>noaa</code></dd>\n",
       "            </dl>\n",
       "        </div>\n",
       "        \n",
       "            </div>\n",
       "        "
      ],
      "text/plain": [
       "<pyspark.sql.session.SparkSession at 0x7fbaa18f7a90>"
      ]
     },
     "execution_count": 4,
     "metadata": {},
     "output_type": "execute_result"
    }
   ],
   "source": [
    "spark"
   ]
  },
  {
   "cell_type": "markdown",
   "metadata": {},
   "source": [
    "### Step 1 : Import Data"
   ]
  },
  {
   "cell_type": "markdown",
   "metadata": {},
   "source": [
    "#### Combine all the yearly data files to dataframe 'df_union'"
   ]
  },
  {
   "cell_type": "code",
   "execution_count": 5,
   "metadata": {},
   "outputs": [],
   "source": [
    "from functools import reduce\n",
    "from pyspark.sql import DataFrame\n",
    "\n",
    "df_union = spark.read.csv(\"s3://big-data-project2020/US_weather_1929.csv\",header=True)\n",
    "\n",
    "for year in range(1930, 2019):\n",
    "    df = spark.read.csv('s3://big-data-project2020/US_weather_{}.csv'.format(year),header=True)\n",
    "    dfs = [df_union, df]\n",
    "    df_union = reduce(DataFrame.unionAll, dfs)\n",
    "    "
   ]
  },
  {
   "cell_type": "code",
   "execution_count": 6,
   "metadata": {},
   "outputs": [
    {
     "data": {
      "text/plain": [
       "DataFrame[stn: string, wban: string, year: string, mo: string, da: string, temp: string, count_temp: string, dewp: string, count_dewp: string, slp: string, count_slp: string, stp: string, count_stp: string, visib: string, count_visib: string, wdsp: string, count_wdsp: string, mxpsd: string, gust: string, max: string, flag_max: string, min: string, flag_min: string, prcp: string, flag_prcp: string, sndp: string, fog: string, rain_drizzle: string, snow_ice_pellets: string, hail: string, thunder: string, tornado_funnel_cloud: string]"
      ]
     },
     "execution_count": 6,
     "metadata": {},
     "output_type": "execute_result"
    }
   ],
   "source": [
    "df_union.cache()"
   ]
  },
  {
   "cell_type": "code",
   "execution_count": 8,
   "metadata": {},
   "outputs": [
    {
     "data": {
      "text/plain": [
       "150508982"
      ]
     },
     "execution_count": 8,
     "metadata": {},
     "output_type": "execute_result"
    }
   ],
   "source": [
    "df_union.count()"
   ]
  },
  {
   "cell_type": "code",
   "execution_count": 7,
   "metadata": {},
   "outputs": [
    {
     "name": "stdout",
     "output_type": "stream",
     "text": [
      "+------+-----+----+---+---+----+----------+----+----------+-----+---------+------+---------+-----+-----------+----+----------+-----+-----+----+--------+----+--------+-----+---------+-----+---+------------+----------------+----+-------+--------------------+\n",
      "|   stn| wban|year| mo| da|temp|count_temp|dewp|count_dewp|  slp|count_slp|   stp|count_stp|visib|count_visib|wdsp|count_wdsp|mxpsd| gust| max|flag_max| min|flag_min| prcp|flag_prcp| sndp|fog|rain_drizzle|snow_ice_pellets|hail|thunder|tornado_funnel_cloud|\n",
      "+------+-----+----+---+---+----+----------+----+----------+-----+---------+------+---------+-----+-----------+----+----------+-----+-----+----+--------+----+--------+-----+---------+-----+---+------------+----------------+----+-------+--------------------+\n",
      "|030050|99999|1929| 10| 03|49.0|         4|41.7|         4|975.7|        4|9999.9|        0| 10.9|          4|10.0|         4| 23.9|999.9|53.1|    null|46.0|    null|99.99|     null|999.9|  0|           1|               0|   0|      0|                   0|\n",
      "|030050|99999|1929| 10| 04|45.7|         4|38.5|         4|992.0|        4|9999.9|        0|  6.2|          4|15.2|         4| 36.9|999.9|53.1|    null|44.1|    null|99.99|     null|999.9|  0|           1|               0|   0|      0|                   0|\n",
      "|030050|99999|1929| 10| 07|48.2|         4|44.8|         4|979.1|        4|9999.9|        0|  9.3|          4| 9.5|         4| 18.1|999.9|53.1|    null|46.0|    null|99.99|     null|999.9|  0|           1|               0|   0|      0|                   0|\n",
      "|030050|99999|1929| 10| 17|49.7|         4|48.7|         4|996.0|        4|9999.9|        0|  6.3|          4| 1.0|         4|  1.9|999.9|51.1|    null|48.9|    null|99.99|     null|999.9|  1|           1|               0|   0|      0|                   0|\n",
      "|030050|99999|1929| 10| 18|48.0|         4|46.2|         4|997.3|        4|9999.9|        0|  6.2|          4| 6.0|         4|  8.9|999.9|51.1|    null|46.9|    null|99.99|     null|999.9|  0|           1|               0|   0|      0|                   0|\n",
      "+------+-----+----+---+---+----+----------+----+----------+-----+---------+------+---------+-----+-----------+----+----------+-----+-----+----+--------+----+--------+-----+---------+-----+---+------------+----------------+----+-------+--------------------+\n",
      "only showing top 5 rows\n",
      "\n"
     ]
    }
   ],
   "source": [
    "df_union.show(5)"
   ]
  },
  {
   "cell_type": "code",
   "execution_count": 8,
   "metadata": {},
   "outputs": [
    {
     "name": "stdout",
     "output_type": "stream",
     "text": [
      "root\n",
      " |-- stn: string (nullable = true)\n",
      " |-- wban: string (nullable = true)\n",
      " |-- year: string (nullable = true)\n",
      " |-- mo: string (nullable = true)\n",
      " |-- da: string (nullable = true)\n",
      " |-- temp: string (nullable = true)\n",
      " |-- count_temp: string (nullable = true)\n",
      " |-- dewp: string (nullable = true)\n",
      " |-- count_dewp: string (nullable = true)\n",
      " |-- slp: string (nullable = true)\n",
      " |-- count_slp: string (nullable = true)\n",
      " |-- stp: string (nullable = true)\n",
      " |-- count_stp: string (nullable = true)\n",
      " |-- visib: string (nullable = true)\n",
      " |-- count_visib: string (nullable = true)\n",
      " |-- wdsp: string (nullable = true)\n",
      " |-- count_wdsp: string (nullable = true)\n",
      " |-- mxpsd: string (nullable = true)\n",
      " |-- gust: string (nullable = true)\n",
      " |-- max: string (nullable = true)\n",
      " |-- flag_max: string (nullable = true)\n",
      " |-- min: string (nullable = true)\n",
      " |-- flag_min: string (nullable = true)\n",
      " |-- prcp: string (nullable = true)\n",
      " |-- flag_prcp: string (nullable = true)\n",
      " |-- sndp: string (nullable = true)\n",
      " |-- fog: string (nullable = true)\n",
      " |-- rain_drizzle: string (nullable = true)\n",
      " |-- snow_ice_pellets: string (nullable = true)\n",
      " |-- hail: string (nullable = true)\n",
      " |-- thunder: string (nullable = true)\n",
      " |-- tornado_funnel_cloud: string (nullable = true)\n",
      "\n"
     ]
    }
   ],
   "source": [
    "df_union.printSchema()"
   ]
  },
  {
   "cell_type": "markdown",
   "metadata": {},
   "source": [
    "#### Import the weather stations table"
   ]
  },
  {
   "cell_type": "code",
   "execution_count": 6,
   "metadata": {},
   "outputs": [],
   "source": [
    "stations = spark.read.csv(\"s3://big-data-project2020/weather_stations.csv\",header=True)"
   ]
  },
  {
   "cell_type": "code",
   "execution_count": 8,
   "metadata": {},
   "outputs": [
    {
     "data": {
      "text/plain": [
       "DataFrame[usaf: string, wban: string, name: string, country: string, state: string, call: string, lat: string, lon: string, elev: string, begin: string, end: string]"
      ]
     },
     "execution_count": 8,
     "metadata": {},
     "output_type": "execute_result"
    }
   ],
   "source": [
    "stations.cache()"
   ]
  },
  {
   "cell_type": "code",
   "execution_count": 11,
   "metadata": {},
   "outputs": [
    {
     "data": {
      "text/plain": [
       "29751"
      ]
     },
     "execution_count": 11,
     "metadata": {},
     "output_type": "execute_result"
    }
   ],
   "source": [
    "stations.count()"
   ]
  },
  {
   "cell_type": "code",
   "execution_count": 12,
   "metadata": {},
   "outputs": [
    {
     "name": "stdout",
     "output_type": "stream",
     "text": [
      "+------+-----+--------------------+-------+-----+----+------+------+-------+--------+--------+\n",
      "|  usaf| wban|                name|country|state|call|   lat|   lon|   elev|   begin|     end|\n",
      "+------+-----+--------------------+-------+-----+----+------+------+-------+--------+--------+\n",
      "|007018|99999|WXPOD 7018       ...|   null| null|null|   0.0|   0.0|+7018.0|20110309|20130730|\n",
      "|007026|99999|WXPOD 7026       ...|     AF| null|null|   0.0|   0.0|+7026.0|20120713|20170822|\n",
      "|007070|99999|WXPOD 7070       ...|     AF| null|null|   0.0|   0.0|+7070.0|20140923|20150926|\n",
      "|008268|99999|WXPOD8278        ...|     AF| null|null| 32.95|65.567|+1156.7|20100519|20120323|\n",
      "|008307|99999|WXPOD 8318       ...|     AF| null|null|   0.0|   0.0|+8318.0|20100421|20100421|\n",
      "|010016|99999|         RORVIK/RYUM|     NO| null|null| 64.85|11.233|+0014.0|19870116|19910806|\n",
      "|010017|99999|               FRIGG|     NO| null|ENFR| 59.98|  2.25|+0048.0|19880320|20050228|\n",
      "|010071|99999|        LONGYEARBYEN|     SV| null|null|78.217|15.583|+0037.0|20050210|20050210|\n",
      "|010190|99999|         SVARTTANGEN|     NO| null|null|77.517|20.817|+0020.0|20100825|20140523|\n",
      "|010303|99999|     TROMSO/SKATTURA|     NO| null|null|  69.7|19.017|+0014.0|20140522|20150108|\n",
      "|010320|99999|            OVERBYGD|     NO| null|null|69.017|19.283|+0078.0|19730101|20140523|\n",
      "|010340|99999|    FUGLOYKALVEN FYR|     NO| null|null|70.317| 20.15|+0038.0|19871202|20140523|\n",
      "|010510|99999|         SUOLOVUOPMI|     NO| null|null|69.583|23.533|+0374.0|19730102|20140523|\n",
      "|010530|99999|    HAMMERFEST RADIO|     NO| null|null|70.683|23.683|+0070.0|19730101|19871226|\n",
      "|010610|99999|            BRENNELV|     NO| null|null|70.067|25.117|+0034.0|19730101|19840707|\n",
      "|010660|99999|          HELNES FYR|     NO| null|null|71.067|26.233|+0033.0|19730101|20040619|\n",
      "|010670|99999|       LEVAJOK-EVJEN|     NO| null|null|  69.9|26.417|+0112.0|19730103|19820924|\n",
      "|010671|99999|       LEVAJOK-EVJEN|     NO| null|null|  69.9|26.417|+0112.0|20070307|20070307|\n",
      "|010750|99999|        RUSTEFJELBMA|     NO| null|null|  70.4|  28.2|+0011.2|19730101|20130531|\n",
      "|010884|99999|         GEITERYGGEN|     NO| null|ENSN|59.185| 9.567|+0141.1|20050103|20151109|\n",
      "+------+-----+--------------------+-------+-----+----+------+------+-------+--------+--------+\n",
      "only showing top 20 rows\n",
      "\n"
     ]
    }
   ],
   "source": [
    "stations.show()"
   ]
  },
  {
   "cell_type": "code",
   "execution_count": 11,
   "metadata": {},
   "outputs": [
    {
     "name": "stdout",
     "output_type": "stream",
     "text": [
      "root\n",
      " |-- usaf: string (nullable = true)\n",
      " |-- wban: string (nullable = true)\n",
      " |-- name: string (nullable = true)\n",
      " |-- country: string (nullable = true)\n",
      " |-- state: string (nullable = true)\n",
      " |-- call: string (nullable = true)\n",
      " |-- lat: string (nullable = true)\n",
      " |-- lon: string (nullable = true)\n",
      " |-- elev: string (nullable = true)\n",
      " |-- begin: string (nullable = true)\n",
      " |-- end: string (nullable = true)\n",
      "\n"
     ]
    }
   ],
   "source": [
    "stations.printSchema()"
   ]
  },
  {
   "cell_type": "markdown",
   "metadata": {},
   "source": [
    "### Step 2: Data Clean"
   ]
  },
  {
   "cell_type": "markdown",
   "metadata": {},
   "source": [
    "#### check NA value"
   ]
  },
  {
   "cell_type": "code",
   "execution_count": 9,
   "metadata": {},
   "outputs": [
    {
     "name": "stdout",
     "output_type": "stream",
     "text": [
      "+---+----+----+---+---+----+----------+----+----------+---+---------+---+---------+-----+-----------+----+----------+-----+----+---+--------+---+--------+----+---------+----+---+------------+----------------+----+-------+--------------------+\n",
      "|stn|wban|year| mo| da|temp|count_temp|dewp|count_dewp|slp|count_slp|stp|count_stp|visib|count_visib|wdsp|count_wdsp|mxpsd|gust|max|flag_max|min|flag_min|prcp|flag_prcp|sndp|fog|rain_drizzle|snow_ice_pellets|hail|thunder|tornado_funnel_cloud|\n",
      "+---+----+----+---+---+----+----------+----+----------+---+---------+---+---------+-----+-----------+----+----------+-----+----+---+--------+---+--------+----+---------+----+---+------------+----------------+----+-------+--------------------+\n",
      "|  0|   0|   0|  0|  0|   0|         0|   0|         0|  0|        0|  0|        0|    0|          0|   0|         0|    0|   0|  0|       0|  0|       0|   0|        0|   0|  0|           0|               0|   0|      0|                   0|\n",
      "+---+----+----+---+---+----+----------+----+----------+---+---------+---+---------+-----+-----------+----+----------+-----+----+---+--------+---+--------+----+---------+----+---+------------+----------------+----+-------+--------------------+\n",
      "\n"
     ]
    }
   ],
   "source": [
    "from pyspark.sql.functions import isnan, when, count, col\n",
    "df_union.select([count(when(isnan(c), c)).alias(c) for c in df_union.columns]).show()"
   ]
  },
  {
   "cell_type": "code",
   "execution_count": 10,
   "metadata": {},
   "outputs": [
    {
     "name": "stdout",
     "output_type": "stream",
     "text": [
      "+----+----+----+-------+-----+----+---+---+----+-----+---+\n",
      "|usaf|wban|name|country|state|call|lat|lon|elev|begin|end|\n",
      "+----+----+----+-------+-----+----+---+---+----+-----+---+\n",
      "|   0|   0|   0|      0|    0|   0|  0|  0|   0|    0|  0|\n",
      "+----+----+----+-------+-----+----+---+---+----+-----+---+\n",
      "\n"
     ]
    }
   ],
   "source": [
    "stations.select([count(when(isnan(c), c)).alias(c) for c in stations.columns]).show()"
   ]
  },
  {
   "cell_type": "markdown",
   "metadata": {},
   "source": [
    "#### check null values, drop the column or fill the null values"
   ]
  },
  {
   "cell_type": "code",
   "execution_count": 7,
   "metadata": {},
   "outputs": [],
   "source": [
    "from pyspark.sql.functions import isnan, when, count, col"
   ]
  },
  {
   "cell_type": "code",
   "execution_count": 12,
   "metadata": {},
   "outputs": [
    {
     "name": "stdout",
     "output_type": "stream",
     "text": [
      "+---+----+----+---+---+----+----------+----+----------+---+---------+---+---------+-----+-----------+----+----------+-----+----+---+--------+---+--------+----+---------+----+---+------------+----------------+----+-------+--------------------+\n",
      "|stn|wban|year| mo| da|temp|count_temp|dewp|count_dewp|slp|count_slp|stp|count_stp|visib|count_visib|wdsp|count_wdsp|mxpsd|gust|max|flag_max|min|flag_min|prcp|flag_prcp|sndp|fog|rain_drizzle|snow_ice_pellets|hail|thunder|tornado_funnel_cloud|\n",
      "+---+----+----+---+---+----+----------+----+----------+---+---------+---+---------+-----+-----------+----+----------+-----+----+---+--------+---+--------+----+---------+----+---+------------+----------------+----+-------+--------------------+\n",
      "|  0|   0|   0|  0|  0|   0|         0|   0|         0|  0|        0|  0|        0|    0|          0|   0|         0|    0|   0|  0|83368137|  0|75713928|   0| 13135087|   0|  0|           0|               0|   0|      0|                   0|\n",
      "+---+----+----+---+---+----+----------+----+----------+---+---------+---+---------+-----+-----------+----+----------+-----+----+---+--------+---+--------+----+---------+----+---+------------+----------------+----+-------+--------------------+\n",
      "\n"
     ]
    }
   ],
   "source": [
    "df_union.select([count(when(col(c).isNull(), c)).alias(c) for c in df_union.columns]).show()"
   ]
  },
  {
   "cell_type": "code",
   "execution_count": 8,
   "metadata": {},
   "outputs": [],
   "source": [
    "# The null values exceed 50% of the column, so we drop them\n",
    "columns_to_drop = ['flag_max', 'flag_min','flag_prcp']\n",
    "df_union = df_union.drop(*columns_to_drop)"
   ]
  },
  {
   "cell_type": "code",
   "execution_count": 14,
   "metadata": {},
   "outputs": [
    {
     "name": "stdout",
     "output_type": "stream",
     "text": [
      "+---+----+----+---+---+----+----------+----+----------+---+---------+---+---------+-----+-----------+----+----------+-----+----+---+---+----+----+---+------------+----------------+----+-------+--------------------+\n",
      "|stn|wban|year| mo| da|temp|count_temp|dewp|count_dewp|slp|count_slp|stp|count_stp|visib|count_visib|wdsp|count_wdsp|mxpsd|gust|max|min|prcp|sndp|fog|rain_drizzle|snow_ice_pellets|hail|thunder|tornado_funnel_cloud|\n",
      "+---+----+----+---+---+----+----------+----+----------+---+---------+---+---------+-----+-----------+----+----------+-----+----+---+---+----+----+---+------------+----------------+----+-------+--------------------+\n",
      "|  0|   0|   0|  0|  0|   0|         0|   0|         0|  0|        0|  0|        0|    0|          0|   0|         0|    0|   0|  0|  0|   0|   0|  0|           0|               0|   0|      0|                   0|\n",
      "+---+----+----+---+---+----+----------+----+----------+---+---------+---+---------+-----+-----------+----+----------+-----+----+---+---+----+----+---+------------+----------------+----+-------+--------------------+\n",
      "\n"
     ]
    }
   ],
   "source": [
    "# make sure the right columns have been dropped\n",
    "df_union.select([count(when(col(c).isNull(), c)).alias(c) for c in df_union.columns]).show()"
   ]
  },
  {
   "cell_type": "code",
   "execution_count": 15,
   "metadata": {},
   "outputs": [
    {
     "name": "stdout",
     "output_type": "stream",
     "text": [
      "+----+----+----+-------+-----+-----+----+----+----+-----+---+\n",
      "|usaf|wban|name|country|state| call| lat| lon|elev|begin|end|\n",
      "+----+----+----+-------+-----+-----+----+----+----+-----+---+\n",
      "|   0|   0| 790|    934|23001|18867|1199|1200|1297|    0|  0|\n",
      "+----+----+----+-------+-----+-----+----+----+----+-----+---+\n",
      "\n"
     ]
    }
   ],
   "source": [
    "stations.select([count(when(col(c).isNull(), c)).alias(c) for c in stations.columns]).show()"
   ]
  },
  {
   "cell_type": "code",
   "execution_count": 9,
   "metadata": {},
   "outputs": [],
   "source": [
    "stations = stations.na.fill(0)"
   ]
  },
  {
   "cell_type": "code",
   "execution_count": 17,
   "metadata": {},
   "outputs": [
    {
     "name": "stdout",
     "output_type": "stream",
     "text": [
      "+----+----+----+-------+-----+-----+----+----+----+-----+---+\n",
      "|usaf|wban|name|country|state| call| lat| lon|elev|begin|end|\n",
      "+----+----+----+-------+-----+-----+----+----+----+-----+---+\n",
      "|   0|   0| 790|    934|23001|18867|1199|1200|1297|    0|  0|\n",
      "+----+----+----+-------+-----+-----+----+----+----+-----+---+\n",
      "\n"
     ]
    }
   ],
   "source": [
    "# make sure the null values have been filled\n",
    "stations.select([count(when(col(c).isNull(), c)).alias(c) for c in stations.columns]).show()"
   ]
  },
  {
   "cell_type": "code",
   "execution_count": 10,
   "metadata": {},
   "outputs": [],
   "source": [
    "# drop the repeated colunmn exits in df_union table\n",
    "stations=stations.drop('wban')"
   ]
  },
  {
   "cell_type": "markdown",
   "metadata": {},
   "source": [
    "### Step 3: Merge two table by station number"
   ]
  },
  {
   "cell_type": "code",
   "execution_count": 19,
   "metadata": {},
   "outputs": [
    {
     "data": {
      "text/plain": [
       "22786"
      ]
     },
     "execution_count": 19,
     "metadata": {},
     "output_type": "execute_result"
    }
   ],
   "source": [
    "# check the unique station numbers of the df_union table\n",
    "df_union.select('stn').distinct().count()"
   ]
  },
  {
   "cell_type": "code",
   "execution_count": 20,
   "metadata": {},
   "outputs": [
    {
     "data": {
      "text/plain": [
       "26229"
      ]
     },
     "execution_count": 20,
     "metadata": {},
     "output_type": "execute_result"
    }
   ],
   "source": [
    "# check the unique station numbers of the stations table\n",
    "stations.select('usaf').distinct().count()"
   ]
  },
  {
   "cell_type": "code",
   "execution_count": 11,
   "metadata": {},
   "outputs": [],
   "source": [
    "#station number has duplicate value, remove the duplicate value\n",
    "stations=stations.dropDuplicates(subset=['usaf'])"
   ]
  },
  {
   "cell_type": "code",
   "execution_count": 12,
   "metadata": {},
   "outputs": [
    {
     "name": "stdout",
     "output_type": "stream",
     "text": [
      "+------+-----+----+---+---+----+----------+----+----------+-----+---------+------+---------+-----+-----------+----+----------+-----+-----+----+----+-----+-----+---+------------+----------------+----+-------+--------------------+------+-------+-------+-----+----+------+------+-------+--------+--------+\n",
      "|   stn| wban|year| mo| da|temp|count_temp|dewp|count_dewp|  slp|count_slp|   stp|count_stp|visib|count_visib|wdsp|count_wdsp|mxpsd| gust| max| min| prcp| sndp|fog|rain_drizzle|snow_ice_pellets|hail|thunder|tornado_funnel_cloud|  usaf|   name|country|state|call|   lat|   lon|   elev|   begin|     end|\n",
      "+------+-----+----+---+---+----+----------+----+----------+-----+---------+------+---------+-----+-----------+----+----------+-----+-----+----+----+-----+-----+---+------------+----------------+----+-------+--------------------+------+-------+-------+-----+----+------+------+-------+--------+--------+\n",
      "|030050|99999|1929| 10| 03|49.0|         4|41.7|         4|975.7|        4|9999.9|        0| 10.9|          4|10.0|         4| 23.9|999.9|53.1|46.0|99.99|999.9|  0|           1|               0|   0|      0|                   0|030050|LERWICK|     UK| null|null|60.133|-1.183|+0084.0|19291001|20200627|\n",
      "|030050|99999|1929| 10| 04|45.7|         4|38.5|         4|992.0|        4|9999.9|        0|  6.2|          4|15.2|         4| 36.9|999.9|53.1|44.1|99.99|999.9|  0|           1|               0|   0|      0|                   0|030050|LERWICK|     UK| null|null|60.133|-1.183|+0084.0|19291001|20200627|\n",
      "|030050|99999|1929| 10| 07|48.2|         4|44.8|         4|979.1|        4|9999.9|        0|  9.3|          4| 9.5|         4| 18.1|999.9|53.1|46.0|99.99|999.9|  0|           1|               0|   0|      0|                   0|030050|LERWICK|     UK| null|null|60.133|-1.183|+0084.0|19291001|20200627|\n",
      "|030050|99999|1929| 10| 17|49.7|         4|48.7|         4|996.0|        4|9999.9|        0|  6.3|          4| 1.0|         4|  1.9|999.9|51.1|48.9|99.99|999.9|  1|           1|               0|   0|      0|                   0|030050|LERWICK|     UK| null|null|60.133|-1.183|+0084.0|19291001|20200627|\n",
      "|030050|99999|1929| 10| 18|48.0|         4|46.2|         4|997.3|        4|9999.9|        0|  6.2|          4| 6.0|         4|  8.9|999.9|51.1|46.9|99.99|999.9|  0|           1|               0|   0|      0|                   0|030050|LERWICK|     UK| null|null|60.133|-1.183|+0084.0|19291001|20200627|\n",
      "+------+-----+----+---+---+----+----------+----+----------+-----+---------+------+---------+-----+-----------+----+----------+-----+-----+----+----+-----+-----+---+------------+----------------+----+-------+--------------------+------+-------+-------+-----+----+------+------+-------+--------+--------+\n",
      "only showing top 5 rows\n",
      "\n"
     ]
    }
   ],
   "source": [
    "from pyspark.sql.functions import *\n",
    "df_merge=df_union.join(stations, df_union.stn == stations.usaf,\"left\")\n",
    "df_merge.show(5)"
   ]
  },
  {
   "cell_type": "code",
   "execution_count": 117,
   "metadata": {},
   "outputs": [
    {
     "data": {
      "text/plain": [
       "150508982"
      ]
     },
     "execution_count": 117,
     "metadata": {},
     "output_type": "execute_result"
    }
   ],
   "source": [
    "#make sure the row number is the same as the df_union table\n",
    "df_merge.count()"
   ]
  },
  {
   "cell_type": "code",
   "execution_count": 23,
   "metadata": {},
   "outputs": [
    {
     "name": "stdout",
     "output_type": "stream",
     "text": [
      "+---+----+----+---+---+----+----------+----+----------+---+---------+---+---------+-----+-----------+----+----------+-----+----+---+---+----+----+---+------------+----------------+----+-------+--------------------+------+------+-------+---------+--------+------+------+------+------+------+\n",
      "|stn|wban|year| mo| da|temp|count_temp|dewp|count_dewp|slp|count_slp|stp|count_stp|visib|count_visib|wdsp|count_wdsp|mxpsd|gust|max|min|prcp|sndp|fog|rain_drizzle|snow_ice_pellets|hail|thunder|tornado_funnel_cloud|  usaf|  name|country|    state|    call|   lat|   lon|  elev| begin|   end|\n",
      "+---+----+----+---+---+----+----------+----+----------+---+---------+---+---------+-----+-----------+----+----------+-----+----+---+---+----+----+---+------------+----------------+----+-------+--------------------+------+------+-------+---------+--------+------+------+------+------+------+\n",
      "|  0|   0|   0|  0|  0|   0|         0|   0|         0|  0|        0|  0|        0|    0|          0|   0|         0|    0|   0|  0|  0|   0|   0|  0|           0|               0|   0|      0|                   0|127193|338348| 424468|118158938|76486490|480506|480797|508175|127193|127193|\n",
      "+---+----+----+---+---+----+----------+----+----------+---+---------+---+---------+-----+-----------+----+----------+-----+----+---+---+----+----+---+------------+----------------+----+-------+--------------------+------+------+-------+---------+--------+------+------+------+------+------+\n",
      "\n"
     ]
    }
   ],
   "source": [
    "#check null value\n",
    "df_merge.select([count(when(col(c).isNull(), c)).alias(c) for c in df_merge.columns]).show()"
   ]
  },
  {
   "cell_type": "code",
   "execution_count": 13,
   "metadata": {},
   "outputs": [],
   "source": [
    "# fill the null value\n",
    "df_merge = df_merge.na.fill(0)"
   ]
  },
  {
   "cell_type": "code",
   "execution_count": 14,
   "metadata": {},
   "outputs": [],
   "source": [
    "#change data type\n",
    "from pyspark.sql.types import IntegerType\n",
    "df_merge= df_merge.withColumn(\"stn\", df_merge[\"stn\"].cast(IntegerType()))\n",
    "df_merge= df_merge.withColumn(\"wban\", df_merge[\"wban\"].cast(IntegerType()))\n",
    "df_merge= df_merge.withColumn(\"year\", df_merge[\"year\"].cast(IntegerType()))\n",
    "df_merge= df_merge.withColumn(\"mo\", df_merge[\"mo\"].cast(IntegerType()))\n",
    "df_merge= df_merge.withColumn(\"da\", df_merge[\"da\"].cast(IntegerType()))\n",
    "df_merge= df_merge.withColumn(\"count_temp\", df_merge[\"count_temp\"].cast(IntegerType()))\n",
    "df_merge= df_merge.withColumn(\"count_slp\", df_merge[\"count_slp\"].cast(IntegerType()))\n",
    "df_merge= df_merge.withColumn(\"count_stp\", df_merge[\"count_stp\"].cast(IntegerType()))\n",
    "df_merge= df_merge.withColumn(\"count_wdsp\", df_merge[\"count_wdsp\"].cast(IntegerType()))\n",
    "df_merge= df_merge.withColumn(\"count_visib\", df_merge[\"count_visib\"].cast(IntegerType()))\n",
    "df_merge= df_merge.withColumn(\"fog\", df_merge[\"fog\"].cast(IntegerType()))\n",
    "df_merge= df_merge.withColumn(\"rain_drizzle\", df_merge[\"rain_drizzle\"].cast(IntegerType()))\n",
    "df_merge= df_merge.withColumn(\"snow_ice_pellets\", df_merge[\"snow_ice_pellets\"].cast(IntegerType()))\n",
    "df_merge= df_merge.withColumn(\"hail\", df_merge[\"hail\"].cast(IntegerType()))\n",
    "df_merge= df_merge.withColumn(\"thunder\", df_merge[\"thunder\"].cast(IntegerType()))\n",
    "df_merge= df_merge.withColumn(\"tornado_funnel_cloud\", df_merge[\"tornado_funnel_cloud\"].cast(IntegerType()))\n",
    "df_merge= df_merge.withColumn(\"count_dewp\", df_merge[\"count_dewp\"].cast(IntegerType()))\n",
    "df_merge= df_merge.withColumn(\"begin\", df_merge[\"begin\"].cast(IntegerType()))\n",
    "df_merge= df_merge.withColumn(\"end\", df_merge[\"end\"].cast(IntegerType()))"
   ]
  },
  {
   "cell_type": "code",
   "execution_count": 15,
   "metadata": {},
   "outputs": [],
   "source": [
    "from pyspark.sql.types import DoubleType\n",
    "df_merge= df_merge.withColumn(\"temp\", df_merge[\"temp\"].cast(DoubleType()))\n",
    "df_merge= df_merge.withColumn(\"dewp\", df_merge[\"dewp\"].cast(DoubleType()))\n",
    "df_merge= df_merge.withColumn(\"slp\", df_merge[\"slp\"].cast(DoubleType()))\n",
    "df_merge= df_merge.withColumn(\"stp\", df_merge[\"stp\"].cast(DoubleType()))\n",
    "df_merge= df_merge.withColumn(\"visib\", df_merge[\"visib\"].cast(DoubleType()))\n",
    "df_merge= df_merge.withColumn(\"wdsp\", df_merge[\"wdsp\"].cast(DoubleType()))\n",
    "df_merge= df_merge.withColumn(\"mxpsd\", df_merge[\"mxpsd\"].cast(DoubleType()))\n",
    "df_merge= df_merge.withColumn(\"gust\", df_merge[\"gust\"].cast(DoubleType()))\n",
    "df_merge= df_merge.withColumn(\"prcp\", df_merge[\"prcp\"].cast(DoubleType()))\n",
    "df_merge= df_merge.withColumn(\"max\", df_merge[\"max\"].cast(DoubleType()))\n",
    "df_merge= df_merge.withColumn(\"min\", df_merge[\"min\"].cast(DoubleType()))\n",
    "df_merge= df_merge.withColumn(\"sndp\", df_merge[\"sndp\"].cast(DoubleType()))\n",
    "df_merge= df_merge.withColumn(\"lat\", df_merge[\"lat\"].cast(DoubleType()))\n",
    "df_merge= df_merge.withColumn(\"lon\", df_merge[\"lon\"].cast(DoubleType()))\n",
    "df_merge= df_merge.withColumn(\"elev\", df_merge[\"elev\"].cast(DoubleType()))"
   ]
  },
  {
   "cell_type": "code",
   "execution_count": 16,
   "metadata": {},
   "outputs": [
    {
     "name": "stdout",
     "output_type": "stream",
     "text": [
      "root\n",
      " |-- stn: integer (nullable = true)\n",
      " |-- wban: integer (nullable = true)\n",
      " |-- year: integer (nullable = true)\n",
      " |-- mo: integer (nullable = true)\n",
      " |-- da: integer (nullable = true)\n",
      " |-- temp: double (nullable = true)\n",
      " |-- count_temp: integer (nullable = true)\n",
      " |-- dewp: double (nullable = true)\n",
      " |-- count_dewp: integer (nullable = true)\n",
      " |-- slp: double (nullable = true)\n",
      " |-- count_slp: integer (nullable = true)\n",
      " |-- stp: double (nullable = true)\n",
      " |-- count_stp: integer (nullable = true)\n",
      " |-- visib: double (nullable = true)\n",
      " |-- count_visib: integer (nullable = true)\n",
      " |-- wdsp: double (nullable = true)\n",
      " |-- count_wdsp: integer (nullable = true)\n",
      " |-- mxpsd: double (nullable = true)\n",
      " |-- gust: double (nullable = true)\n",
      " |-- max: double (nullable = true)\n",
      " |-- min: double (nullable = true)\n",
      " |-- prcp: double (nullable = true)\n",
      " |-- sndp: double (nullable = true)\n",
      " |-- fog: integer (nullable = true)\n",
      " |-- rain_drizzle: integer (nullable = true)\n",
      " |-- snow_ice_pellets: integer (nullable = true)\n",
      " |-- hail: integer (nullable = true)\n",
      " |-- thunder: integer (nullable = true)\n",
      " |-- tornado_funnel_cloud: integer (nullable = true)\n",
      " |-- usaf: string (nullable = true)\n",
      " |-- name: string (nullable = true)\n",
      " |-- country: string (nullable = true)\n",
      " |-- state: string (nullable = true)\n",
      " |-- call: string (nullable = true)\n",
      " |-- lat: double (nullable = true)\n",
      " |-- lon: double (nullable = true)\n",
      " |-- elev: double (nullable = true)\n",
      " |-- begin: integer (nullable = true)\n",
      " |-- end: integer (nullable = true)\n",
      "\n"
     ]
    }
   ],
   "source": [
    "# check data type\n",
    "df_merge.printSchema()"
   ]
  },
  {
   "cell_type": "markdown",
   "metadata": {},
   "source": [
    "### Step 4: Data visualization and basic insights"
   ]
  },
  {
   "cell_type": "markdown",
   "metadata": {},
   "source": [
    "##### Calculate the average temperature of different country"
   ]
  },
  {
   "cell_type": "code",
   "execution_count": 31,
   "metadata": {},
   "outputs": [
    {
     "name": "stdout",
     "output_type": "stream",
     "text": [
      "+-------+-----------------+\n",
      "|country|        avg(temp)|\n",
      "+-------+-----------------+\n",
      "|     DJ|86.59916057826833|\n",
      "|     CD| 85.0348771975602|\n",
      "|     SU|84.34931763717847|\n",
      "|     ML|84.34395323045999|\n",
      "|     NG|84.23724590105995|\n",
      "|     HA|83.81910556738664|\n",
      "|     TL|83.76287450066584|\n",
      "|     UV|83.27684789685122|\n",
      "|     TV| 83.0699499319351|\n",
      "|     CB|82.97690869979203|\n",
      "|     MV|82.97255055959153|\n",
      "|     AA|82.90004122982673|\n",
      "|     VC|82.77375947487694|\n",
      "|     VI|82.72398291750956|\n",
      "|     SG|82.59625909014031|\n",
      "|     KR|82.43631437386279|\n",
      "|     MR|82.40277377898764|\n",
      "|     RM|82.39523702031599|\n",
      "|     NT|82.29063583610494|\n",
      "|     PU|82.25312772766944|\n",
      "+-------+-----------------+\n",
      "only showing top 20 rows\n",
      "\n"
     ]
    }
   ],
   "source": [
    "df_c = df_merge.groupby('country').agg({'temp':'mean'})\n",
    "df_c.sort(df_c['avg(temp)'].desc()).show()"
   ]
  },
  {
   "cell_type": "markdown",
   "metadata": {},
   "source": [
    "##### Check which station has the top observation times"
   ]
  },
  {
   "cell_type": "code",
   "execution_count": 32,
   "metadata": {},
   "outputs": [
    {
     "name": "stdout",
     "output_type": "stream",
     "text": [
      "+------+-------+\n",
      "|   stn|  count|\n",
      "+------+-------+\n",
      "|999999|5476544|\n",
      "|949999| 101315|\n",
      "|722860|  31370|\n",
      "|745700|  30101|\n",
      "|745980|  29985|\n",
      "|725377|  29931|\n",
      "|722535|  29762|\n",
      "|722265|  29720|\n",
      "|723030|  29649|\n",
      "|724338|  29522|\n",
      "|722210|  29329|\n",
      "|911820|  29069|\n",
      "|722485|  28873|\n",
      "|949260|  28692|\n",
      "|722536|  28446|\n",
      "|744910|  28359|\n",
      "|724050|  28330|\n",
      "|703980|  28256|\n",
      "|722650|  28180|\n",
      "|727855|  28161|\n",
      "+------+-------+\n",
      "only showing top 20 rows\n",
      "\n"
     ]
    }
   ],
   "source": [
    "df_stn=df_merge.groupby('stn').count()\n",
    "df_stn.sort(df_stn['count'].desc()).show()"
   ]
  },
  {
   "cell_type": "markdown",
   "metadata": {},
   "source": [
    "##### Check the average temperature by month through all the years (1929 to 2019)."
   ]
  },
  {
   "cell_type": "code",
   "execution_count": 20,
   "metadata": {},
   "outputs": [],
   "source": [
    "from pyspark.sql.functions import col, avg\n",
    "temp_mo = df_merge.groupby('mo').agg({'temp': 'mean'})"
   ]
  },
  {
   "cell_type": "code",
   "execution_count": 19,
   "metadata": {},
   "outputs": [
    {
     "name": "stdout",
     "output_type": "stream",
     "text": [
      "+---+------------------+\n",
      "| mo|         avg(temp)|\n",
      "+---+------------------+\n",
      "|  7| 69.04258379575136|\n",
      "| 11| 45.36091775047502|\n",
      "|  3| 44.20142340704085|\n",
      "|  8|   68.125664820822|\n",
      "|  5|59.742288190060385|\n",
      "|  6| 65.68004544970663|\n",
      "|  9|62.661399104100404|\n",
      "|  1| 35.54832121132603|\n",
      "| 10|   54.501178192195|\n",
      "|  4|52.260535995400225|\n",
      "| 12| 38.38429827801016|\n",
      "|  2|37.827049091905735|\n",
      "+---+------------------+\n",
      "\n"
     ]
    }
   ],
   "source": [
    "temp_mo.show()"
   ]
  },
  {
   "cell_type": "markdown",
   "metadata": {},
   "source": [
    "##### Plot the average temperature for each month"
   ]
  },
  {
   "cell_type": "code",
   "execution_count": 21,
   "metadata": {},
   "outputs": [
    {
     "name": "stderr",
     "output_type": "stream",
     "text": [
      "/usr/lib/spark/python/pyspark/sql/dataframe.py:2103: UserWarning: toPandas attempted Arrow optimization because 'spark.sql.execution.arrow.enabled' is set to true; however, failed by the reason below:\n",
      "  PyArrow >= 0.8.0 must be installed; however, it was not found.\n",
      "Attempting non-optimization as 'spark.sql.execution.arrow.fallback.enabled' is set to true.\n",
      "  warnings.warn(msg)\n"
     ]
    }
   ],
   "source": [
    "temp_mo_pandas = temp_mo.toPandas()"
   ]
  },
  {
   "cell_type": "code",
   "execution_count": 22,
   "metadata": {},
   "outputs": [],
   "source": [
    "temp_mo_pandas = temp_mo_pandas.sort_values(by=['mo'])"
   ]
  },
  {
   "cell_type": "code",
   "execution_count": 23,
   "metadata": {},
   "outputs": [
    {
     "data": {
      "text/plain": [
       "<matplotlib.axes._subplots.AxesSubplot at 0x7fce06b22a50>"
      ]
     },
     "execution_count": 23,
     "metadata": {},
     "output_type": "execute_result"
    },
    {
     "data": {
      "image/png": "[encoded data removed]",
      "text/plain": [
       "<Figure size 432x288 with 1 Axes>"
      ]
     },
     "metadata": {
      "needs_background": "light"
     },
     "output_type": "display_data"
    }
   ],
   "source": [
    "# Create a bar plot\n",
    "temp_mo_pandas.plot(kind='bar', x='mo', y='avg(temp)')"
   ]
  },
  {
   "cell_type": "markdown",
   "metadata": {},
   "source": [
    "##### The probability to have fog through all the monthes:"
   ]
  },
  {
   "cell_type": "code",
   "execution_count": 18,
   "metadata": {},
   "outputs": [],
   "source": [
    "fog_mo = df_merge.groupby('mo').agg({'fog': 'mean'})"
   ]
  },
  {
   "cell_type": "code",
   "execution_count": 19,
   "metadata": {},
   "outputs": [
    {
     "name": "stderr",
     "output_type": "stream",
     "text": [
      "/usr/lib/spark/python/pyspark/sql/dataframe.py:2103: UserWarning: toPandas attempted Arrow optimization because 'spark.sql.execution.arrow.enabled' is set to true; however, failed by the reason below:\n",
      "  PyArrow >= 0.8.0 must be installed; however, it was not found.\n",
      "Attempting non-optimization as 'spark.sql.execution.arrow.fallback.enabled' is set to true.\n",
      "  warnings.warn(msg)\n"
     ]
    }
   ],
   "source": [
    "fog_mo_pandas = fog_mo.toPandas()\n",
    "fog_mo_pandas = fog_mo_pandas.sort_values(by=['mo'])"
   ]
  },
  {
   "cell_type": "code",
   "execution_count": 20,
   "metadata": {},
   "outputs": [
    {
     "data": {
      "text/plain": [
       "<matplotlib.axes._subplots.AxesSubplot at 0x7fd563160110>"
      ]
     },
     "execution_count": 20,
     "metadata": {},
     "output_type": "execute_result"
    },
    {
     "data": {
      "image/png": "[encoded data removed]",
      "text/plain": [
       "<Figure size 432x288 with 1 Axes>"
      ]
     },
     "metadata": {
      "needs_background": "light"
     },
     "output_type": "display_data"
    }
   ],
   "source": [
    "# Create a plot\n",
    "fog_mo_pandas.plot(kind='bar', x='mo', y='avg(fog)')"
   ]
  },
  {
   "cell_type": "markdown",
   "metadata": {},
   "source": [
    "##### The probability to rain through all the monthes:"
   ]
  },
  {
   "cell_type": "code",
   "execution_count": 18,
   "metadata": {},
   "outputs": [],
   "source": [
    "rain_drizzle_mo = df_merge.groupby('mo').agg({'rain_drizzle': 'mean'})"
   ]
  },
  {
   "cell_type": "code",
   "execution_count": 19,
   "metadata": {},
   "outputs": [
    {
     "name": "stderr",
     "output_type": "stream",
     "text": [
      "/usr/lib/spark/python/pyspark/sql/dataframe.py:2103: UserWarning: toPandas attempted Arrow optimization because 'spark.sql.execution.arrow.enabled' is set to true; however, failed by the reason below:\n",
      "  PyArrow >= 0.8.0 must be installed; however, it was not found.\n",
      "Attempting non-optimization as 'spark.sql.execution.arrow.fallback.enabled' is set to true.\n",
      "  warnings.warn(msg)\n"
     ]
    }
   ],
   "source": [
    "rain_drizzle_mo_pandas = rain_drizzle_mo.toPandas()\n",
    "rain_drizzle_mo_pandas = rain_drizzle_mo_pandas.sort_values(by=['mo'])"
   ]
  },
  {
   "cell_type": "code",
   "execution_count": 20,
   "metadata": {},
   "outputs": [
    {
     "data": {
      "text/plain": [
       "<matplotlib.axes._subplots.AxesSubplot at 0x7fba97c5f390>"
      ]
     },
     "execution_count": 20,
     "metadata": {},
     "output_type": "execute_result"
    },
    {
     "data": {
      "image/png": "[encoded data removed]",
      "text/plain": [
       "<Figure size 432x288 with 1 Axes>"
      ]
     },
     "metadata": {
      "needs_background": "light"
     },
     "output_type": "display_data"
    }
   ],
   "source": [
    "# Create a plot\n",
    "rain_drizzle_mo_pandas.plot(kind='bar', x='mo', y='avg(rain_drizzle)')"
   ]
  },
  {
   "cell_type": "markdown",
   "metadata": {},
   "source": [
    "##### Check the average temperature trending from 1929 to 2019"
   ]
  },
  {
   "cell_type": "code",
   "execution_count": 135,
   "metadata": {},
   "outputs": [],
   "source": [
    "temp_year = df_merge.groupby('year').agg({'temp': 'mean'})"
   ]
  },
  {
   "cell_type": "code",
   "execution_count": 136,
   "metadata": {},
   "outputs": [
    {
     "name": "stderr",
     "output_type": "stream",
     "text": [
      "/usr/lib/spark/python/pyspark/sql/dataframe.py:2103: UserWarning: toPandas attempted Arrow optimization because 'spark.sql.execution.arrow.enabled' is set to true; however, failed by the reason below:\n",
      "  PyArrow >= 0.8.0 must be installed; however, it was not found.\n",
      "Attempting non-optimization as 'spark.sql.execution.arrow.fallback.enabled' is set to true.\n",
      "  warnings.warn(msg)\n"
     ]
    }
   ],
   "source": [
    "temp_year_pandas = temp_year.toPandas()\n",
    "temp_year_pandas = temp_year_pandas.sort_values(by=['year'])"
   ]
  },
  {
   "cell_type": "code",
   "execution_count": 137,
   "metadata": {},
   "outputs": [
    {
     "data": {
      "text/plain": [
       "<matplotlib.axes._subplots.AxesSubplot at 0x7f2c5ec6bc50>"
      ]
     },
     "execution_count": 137,
     "metadata": {},
     "output_type": "execute_result"
    },
    {
     "data": {
      "image/png": "[encoded data removed]",
      "text/plain": [
       "<Figure size 432x288 with 1 Axes>"
      ]
     },
     "metadata": {
      "needs_background": "light"
     },
     "output_type": "display_data"
    }
   ],
   "source": [
    "# Create a plot\n",
    "temp_year_pandas.plot(kind='line', x='year', y='avg(temp)')"
   ]
  },
  {
   "cell_type": "markdown",
   "metadata": {},
   "source": [
    "The temperature trending plot shows the peak value in around 1945, and it has a big drop in around 1970. Otherwise, it is continually increasing in general. And the plot seems to be more stable in the recent years, we suppose one of the reasons would be the sufficiency of data (more records for recent years)."
   ]
  },
  {
   "cell_type": "markdown",
   "metadata": {},
   "source": [
    "##### Check the visibility trending through all the years (visib: Mean visibility for the day in miles to tenths.)"
   ]
  },
  {
   "cell_type": "code",
   "execution_count": 17,
   "metadata": {},
   "outputs": [],
   "source": [
    "visib_year = df_merge.groupby('year').agg({'visib': 'mean'})"
   ]
  },
  {
   "cell_type": "code",
   "execution_count": 18,
   "metadata": {},
   "outputs": [
    {
     "name": "stderr",
     "output_type": "stream",
     "text": [
      "/usr/lib/spark/python/pyspark/sql/dataframe.py:2103: UserWarning: toPandas attempted Arrow optimization because 'spark.sql.execution.arrow.enabled' is set to true; however, failed by the reason below:\n",
      "  PyArrow >= 0.8.0 must be installed; however, it was not found.\n",
      "Attempting non-optimization as 'spark.sql.execution.arrow.fallback.enabled' is set to true.\n",
      "  warnings.warn(msg)\n"
     ]
    }
   ],
   "source": [
    "visib_year_pandas = visib_year.toPandas()\n",
    "visib_year_pandas = visib_year_pandas.sort_values(by=['year'])"
   ]
  },
  {
   "cell_type": "code",
   "execution_count": 20,
   "metadata": {},
   "outputs": [
    {
     "data": {
      "text/plain": [
       "<matplotlib.axes._subplots.AxesSubplot at 0x7f79f7978690>"
      ]
     },
     "execution_count": 20,
     "metadata": {},
     "output_type": "execute_result"
    },
    {
     "data": {
      "image/png": "[encoded data removed]",
      "text/plain": [
       "<Figure size 432x288 with 1 Axes>"
      ]
     },
     "metadata": {
      "needs_background": "light"
     },
     "output_type": "display_data"
    }
   ],
   "source": [
    "# Create a plot\n",
    "visib_year_pandas.plot(kind='line', x='year', y='avg(visib)')"
   ]
  },
  {
   "cell_type": "markdown",
   "metadata": {},
   "source": [
    "Clearly, the 'visib' value (Mean visibility for the day in miles to tenths) is continuously increasing during the past 40 years (from 1980 to 2020). And that means the air quality is becoming worse and worse."
   ]
  },
  {
   "cell_type": "markdown",
   "metadata": {},
   "source": [
    "##### The probability to have tornado through all the years:"
   ]
  },
  {
   "cell_type": "code",
   "execution_count": 18,
   "metadata": {},
   "outputs": [],
   "source": [
    "tornado_funnel_cloud_year = df_merge.groupby('year').agg({'tornado_funnel_cloud': 'mean'})"
   ]
  },
  {
   "cell_type": "code",
   "execution_count": 20,
   "metadata": {},
   "outputs": [],
   "source": [
    "tornado_funnel_cloud_year_pandas = tornado_funnel_cloud_year.toPandas()\n",
    "tornado_funnel_cloud_year_pandas = tornado_funnel_cloud_year_pandas.sort_values(by=['year'])"
   ]
  },
  {
   "cell_type": "code",
   "execution_count": 21,
   "metadata": {},
   "outputs": [
    {
     "data": {
      "text/plain": [
       "<matplotlib.axes._subplots.AxesSubplot at 0x7fb4f99d8d10>"
      ]
     },
     "execution_count": 21,
     "metadata": {},
     "output_type": "execute_result"
    },
    {
     "data": {
      "image/png": "[encoded data removed]",
      "text/plain": [
       "<Figure size 432x288 with 1 Axes>"
      ]
     },
     "metadata": {
      "needs_background": "light"
     },
     "output_type": "display_data"
    }
   ],
   "source": [
    "# Create a plot\n",
    "tornado_funnel_cloud_year_pandas.plot(kind='line', x='year', y='avg(tornado_funnel_cloud)')"
   ]
  },
  {
   "cell_type": "markdown",
   "metadata": {},
   "source": [
    "##### The probability to have hail through all the years:"
   ]
  },
  {
   "cell_type": "code",
   "execution_count": 18,
   "metadata": {},
   "outputs": [],
   "source": [
    "hail_year = df_merge.groupby('year').agg({'hail': 'mean'})"
   ]
  },
  {
   "cell_type": "code",
   "execution_count": 19,
   "metadata": {},
   "outputs": [
    {
     "name": "stderr",
     "output_type": "stream",
     "text": [
      "/usr/lib/spark/python/pyspark/sql/dataframe.py:2103: UserWarning: toPandas attempted Arrow optimization because 'spark.sql.execution.arrow.enabled' is set to true; however, failed by the reason below:\n",
      "  PyArrow >= 0.8.0 must be installed; however, it was not found.\n",
      "Attempting non-optimization as 'spark.sql.execution.arrow.fallback.enabled' is set to true.\n",
      "  warnings.warn(msg)\n"
     ]
    }
   ],
   "source": [
    "hail_year_pandas = hail_year.toPandas()\n",
    "hail_year_pandas = hail_year_pandas.sort_values(by=['year'])"
   ]
  },
  {
   "cell_type": "code",
   "execution_count": 20,
   "metadata": {},
   "outputs": [
    {
     "data": {
      "text/plain": [
       "<matplotlib.axes._subplots.AxesSubplot at 0x7fb6fb8635d0>"
      ]
     },
     "execution_count": 20,
     "metadata": {},
     "output_type": "execute_result"
    },
    {
     "data": {
      "image/png": "[encoded data removed]",
      "text/plain": [
       "<Figure size 432x288 with 1 Axes>"
      ]
     },
     "metadata": {
      "needs_background": "light"
     },
     "output_type": "display_data"
    }
   ],
   "source": [
    "# Create a plot\n",
    "hail_year_pandas.plot(kind='line', x='year', y='avg(hail)')"
   ]
  },
  {
   "cell_type": "markdown",
   "metadata": {},
   "source": [
    "##### Check which states have the highest average temperatures in US"
   ]
  },
  {
   "cell_type": "code",
   "execution_count": 21,
   "metadata": {},
   "outputs": [],
   "source": [
    "# Filter the data by country, 'US'\n",
    "df_merge_us = df_merge.filter(col(\"country\") == 'US')\n",
    "temp_state = df_merge_us.groupby('state').agg({'temp': 'mean'})"
   ]
  },
  {
   "cell_type": "code",
   "execution_count": 22,
   "metadata": {},
   "outputs": [
    {
     "name": "stdout",
     "output_type": "stream",
     "text": [
      "+-----+------------------+\n",
      "|state|         avg(temp)|\n",
      "+-----+------------------+\n",
      "|   VI| 81.51803471791696|\n",
      "|   PR| 80.50003435639032|\n",
      "|   HI| 74.81340272329174|\n",
      "|   FL| 71.95055290033883|\n",
      "|   LA| 68.43210198912307|\n",
      "|   TX|   67.355976644968|\n",
      "|   AZ| 66.12359355791034|\n",
      "|   MS| 65.24814146957627|\n",
      "|   AL| 64.82867259461699|\n",
      "|   GA| 64.69119849652121|\n",
      "|   SC| 63.70748348126233|\n",
      "|   NC| 61.24455689905607|\n",
      "|   CA| 61.22842509589877|\n",
      "|   OK|61.036226777768114|\n",
      "|   TN| 59.44534758863276|\n",
      "|   DC| 58.63294584632835|\n",
      "|   VA|  58.1826065001907|\n",
      "| null| 57.50482942124794|\n",
      "|   NM|57.431120708372504|\n",
      "|   KY| 57.02336977690355|\n",
      "+-----+------------------+\n",
      "only showing top 20 rows\n",
      "\n"
     ]
    }
   ],
   "source": [
    "temp_state.orderBy(\"avg(temp)\", ascending=False).show(20)"
   ]
  },
  {
   "cell_type": "markdown",
   "metadata": {},
   "source": [
    "As we can see from the list above, the top 2 states or areas with the highest average temperatures are US insular areas or freely associated states. And among only the federal states in US, HI (Hawaii) has the highest average temperature (74.81 F)."
   ]
  },
  {
   "cell_type": "markdown",
   "metadata": {},
   "source": [
    "##### Check which states have the lowest average temperatures in US"
   ]
  },
  {
   "cell_type": "code",
   "execution_count": 23,
   "metadata": {},
   "outputs": [
    {
     "name": "stdout",
     "output_type": "stream",
     "text": [
      "+-----+------------------+\n",
      "|state|         avg(temp)|\n",
      "+-----+------------------+\n",
      "|   AK| 32.50153694177561|\n",
      "|   ND|41.317627261970955|\n",
      "|   MN| 43.20860436149174|\n",
      "|   ME| 44.11529434780382|\n",
      "|   WY|44.144185678565016|\n",
      "|   MT|44.400131249224664|\n",
      "|   VT|  45.3288658664143|\n",
      "|   NH| 45.74374380966702|\n",
      "|   WI|45.953856659286885|\n",
      "|   MI|46.306743979694595|\n",
      "|   SD|46.666053018639666|\n",
      "|   ID| 47.33162111352138|\n",
      "|   CO| 47.71293182768713|\n",
      "|   NY| 49.24410165740538|\n",
      "|   IA| 49.61576665462327|\n",
      "|   MA|50.196696642259944|\n",
      "|   NE| 50.73765991856351|\n",
      "|   WA|50.878568359494075|\n",
      "|   OR| 51.10481022337268|\n",
      "|   CT| 51.55897069684265|\n",
      "+-----+------------------+\n",
      "only showing top 20 rows\n",
      "\n"
     ]
    }
   ],
   "source": [
    "temp_state.orderBy(\"avg(temp)\", ascending=True).show(20)"
   ]
  },
  {
   "cell_type": "markdown",
   "metadata": {},
   "source": [
    "From the table shown below, AK (Alaska) has the lowest temperatures among all the federal states in US. The states ND and MN also have very low average temperatures compared to other states."
   ]
  },
  {
   "cell_type": "markdown",
   "metadata": {},
   "source": [
    "##### Check which states have the highest tornado frequencies in US"
   ]
  },
  {
   "cell_type": "code",
   "execution_count": 24,
   "metadata": {},
   "outputs": [
    {
     "name": "stdout",
     "output_type": "stream",
     "text": [
      "+-----+-------------------------+\n",
      "|state|avg(tornado_funnel_cloud)|\n",
      "+-----+-------------------------+\n",
      "|   PR|     0.009428920445869599|\n",
      "|   FL|     0.001271217401945033|\n",
      "|   VI|     4.339739615623063E-4|\n",
      "|   HI|     4.019618831914227...|\n",
      "|   LA|     3.091708261938464E-4|\n",
      "|   MS|     2.177795200139379E-4|\n",
      "|   ND|     1.807189887920129E-4|\n",
      "|   CO|     1.640137443517766...|\n",
      "|   SD|     1.305877824819926...|\n",
      "|   TX|     1.234431116972972...|\n",
      "+-----+-------------------------+\n",
      "only showing top 10 rows\n",
      "\n"
     ]
    }
   ],
   "source": [
    "df_tornado = df_merge_us.groupby('state').agg({'tornado_funnel_cloud': 'mean'})\n",
    "df_tornado.orderBy(\"avg(tornado_funnel_cloud)\", ascending=False).show(10)"
   ]
  },
  {
   "cell_type": "markdown",
   "metadata": {},
   "source": [
    "The top 1 state PR is not in mainland US. So the federal state with the highest tornado frequency is FL (Florida). The states, HI(Hawaii), LA(Louisiana), and MS(Mississippi) also have the relatively high tornado frequency. The result shows that the southeast area in US have the most tornado  from the historical data."
   ]
  },
  {
   "cell_type": "markdown",
   "metadata": {},
   "source": [
    "### Step 5: Model: Linear Regression"
   ]
  },
  {
   "cell_type": "markdown",
   "metadata": {},
   "source": [
    "##### Predict temp (temperature) by applying linear regression model"
   ]
  },
  {
   "cell_type": "code",
   "execution_count": 133,
   "metadata": {},
   "outputs": [],
   "source": [
    "column_list=df_merge.columns\n",
    "column_list.remove('temp')\n",
    "column_list.remove('name')\n",
    "column_list.remove('country')\n",
    "column_list.remove('call')\n",
    "column_list.remove('state')\n",
    "column_list.remove('usaf')"
   ]
  },
  {
   "cell_type": "code",
   "execution_count": 34,
   "metadata": {},
   "outputs": [],
   "source": [
    "from pyspark.ml.feature import VectorAssembler\n",
    "vectorAssembler = VectorAssembler(inputCols = column_list, outputCol = 'features')\n",
    "feature_df = vectorAssembler.transform(df_merge)\n",
    "feature_df = feature_df.select('features','temp')"
   ]
  },
  {
   "cell_type": "code",
   "execution_count": 35,
   "metadata": {},
   "outputs": [
    {
     "name": "stdout",
     "output_type": "stream",
     "text": [
      "root\n",
      " |-- features: vector (nullable = true)\n",
      " |-- temp: double (nullable = true)\n",
      "\n"
     ]
    }
   ],
   "source": [
    "feature_df.printSchema()"
   ]
  },
  {
   "cell_type": "code",
   "execution_count": 36,
   "metadata": {},
   "outputs": [],
   "source": [
    "splits = feature_df.randomSplit([0.7, 0.3])\n",
    "train_df = splits[0]\n",
    "test_df = splits[1]"
   ]
  },
  {
   "cell_type": "code",
   "execution_count": 133,
   "metadata": {},
   "outputs": [
    {
     "name": "stdout",
     "output_type": "stream",
     "text": [
      "Coefficients: [2.087385033393046e-06,-1.9288068969359448e-05,0.09837741385879577,0.5590537798577633,0.00807438274642832,-0.0041461997747534365,-0.00023175501504266516,0.04645270205849056,0.00022860428457861814,0.11057384152597638,-7.949375884470427e-05,-0.12183661274204463,-0.010170487609863636,-0.1407524689033808,0.008513547012072591,0.1129728178073879,-0.010553499017953607,0.0016725598109298735,0.0008818081361629379,0.0015688178891253134,-0.02368903980012001,0.022893732473218485,-2.890863642952966,2.720621906215026,-23.186296226549786,-1.2501756078856652,11.131486528310038,4.691438456446565,-0.2891916049733953,-0.009406885089380713,-0.005695926302666776,-2.6601926428279935e-06,2.798325687647919e-06]\n",
      "Intercept: -159.4200355301145\n"
     ]
    }
   ],
   "source": [
    "from pyspark.ml.regression import LinearRegression\n",
    "\n",
    "glr =LinearRegression(labelCol='temp')\n",
    "# Fit the model\n",
    "model = glr.fit(train_df)\n",
    "\n",
    "# Print the coefficients and intercept for generalized linear regression model\n",
    "print(\"Coefficients: \" + str(model.coefficients))\n",
    "print(\"Intercept: \" + str(model.intercept))"
   ]
  },
  {
   "cell_type": "code",
   "execution_count": 134,
   "metadata": {},
   "outputs": [
    {
     "name": "stdout",
     "output_type": "stream",
     "text": [
      "numIterations: 1\n",
      "objectiveHistory: [0.0]\n",
      "+-------------------+\n",
      "|          residuals|\n",
      "+-------------------+\n",
      "| -0.509135942061377|\n",
      "| 2.8727518936009915|\n",
      "|-0.3916858500386553|\n",
      "|0.23798457832526765|\n",
      "|  3.267996247578992|\n",
      "| 1.9671692476204754|\n",
      "| 0.5820814773259997|\n",
      "|-1.2460597555226656|\n",
      "| 2.7784426998817224|\n",
      "| 2.1764122504540637|\n",
      "| 6.1424305423344805|\n",
      "| 1.5760432886100944|\n",
      "|-2.3934329488963044|\n",
      "|   2.06463956210402|\n",
      "|-2.3941262326415114|\n",
      "| -4.524794001582933|\n",
      "|0.22728686767437978|\n",
      "| -2.392125017648098|\n",
      "|  2.374876808746805|\n",
      "| 0.5129769767949028|\n",
      "+-------------------+\n",
      "only showing top 20 rows\n",
      "\n",
      "RMSE: 18.473093\n",
      "r2: 0.405448\n"
     ]
    }
   ],
   "source": [
    "# Summarize the model over the training set and print out some metrics\n",
    "trainingSummary = model.summary\n",
    "print(\"numIterations: %d\" % trainingSummary.totalIterations)\n",
    "print(\"objectiveHistory: %s\" % str(trainingSummary.objectiveHistory))\n",
    "trainingSummary.residuals.show()\n",
    "print(\"RMSE: %f\" % trainingSummary.rootMeanSquaredError)\n",
    "print(\"r2: %f\" % trainingSummary.r2)"
   ]
  },
  {
   "cell_type": "code",
   "execution_count": 135,
   "metadata": {},
   "outputs": [],
   "source": [
    "training_predictions=model.evaluate(train_df)"
   ]
  },
  {
   "cell_type": "code",
   "execution_count": 138,
   "metadata": {},
   "outputs": [
    {
     "data": {
      "text/plain": [
       "341.25514775564164"
      ]
     },
     "execution_count": 138,
     "metadata": {},
     "output_type": "execute_result"
    }
   ],
   "source": [
    "training_predictions.meanSquaredError"
   ]
  },
  {
   "cell_type": "markdown",
   "metadata": {},
   "source": [
    "##### Predict prcp (Total precipitation) by applying linear regression model"
   ]
  },
  {
   "cell_type": "code",
   "execution_count": 72,
   "metadata": {},
   "outputs": [
    {
     "data": {
      "text/plain": [
       "['dewp',\n",
       " 'slp',\n",
       " 'stp',\n",
       " 'visib',\n",
       " 'wdsp',\n",
       " 'mxpsd',\n",
       " 'max',\n",
       " 'min',\n",
       " 'sndp',\n",
       " 'fog',\n",
       " 'rain_drizzle',\n",
       " 'snow_ice_pellets',\n",
       " 'hail',\n",
       " 'thunder',\n",
       " 'tornado_funnel_cloud']"
      ]
     },
     "execution_count": 72,
     "metadata": {},
     "output_type": "execute_result"
    }
   ],
   "source": [
    "column_list1"
   ]
  },
  {
   "cell_type": "code",
   "execution_count": 71,
   "metadata": {},
   "outputs": [],
   "source": [
    "column_list1=df_merge.columns\n",
    "column_list1.remove('year')\n",
    "column_list1.remove('stn')\n",
    "column_list1.remove('wban')\n",
    "column_list1.remove('mo')\n",
    "column_list1.remove('da')\n",
    "column_list1.remove('count_temp')\n",
    "column_list1.remove('count_dewp')\n",
    "column_list1.remove('count_slp')\n",
    "column_list1.remove('count_visib')\n",
    "column_list1.remove('count_wdsp')\n",
    "column_list1.remove('temp')\n",
    "column_list1.remove('name')\n",
    "column_list1.remove('country')\n",
    "column_list1.remove('call')\n",
    "column_list1.remove('state')\n",
    "column_list1.remove('usaf')\n",
    "column_list1.remove('count_stp')\n",
    "column_list1.remove('gust')\n",
    "column_list1.remove('elev')\n",
    "column_list1.remove('begin')\n",
    "column_list1.remove('end')\n",
    "column_list1.remove('prcp')\n",
    "column_list1.remove('lat')\n",
    "column_list1.remove('lon')"
   ]
  },
  {
   "cell_type": "code",
   "execution_count": 73,
   "metadata": {},
   "outputs": [
    {
     "name": "stdout",
     "output_type": "stream",
     "text": [
      "+--------------------+-----+\n",
      "|            features| prcp|\n",
      "+--------------------+-----+\n",
      "|[41.7,975.7,9999....|99.99|\n",
      "|[38.5,992.0,9999....|99.99|\n",
      "|[44.8,979.1,9999....|99.99|\n",
      "+--------------------+-----+\n",
      "only showing top 3 rows\n",
      "\n"
     ]
    }
   ],
   "source": [
    "from pyspark.ml.feature import VectorAssembler\n",
    "vectorAssembler1 = VectorAssembler(inputCols = column_list1, outputCol = 'features')\n",
    "df_sealevel = vectorAssembler1.transform(df_merge)\n",
    "df_sealevel = df_sealevel.select('features', 'prcp')\n",
    "df_sealevel.show(3)"
   ]
  },
  {
   "cell_type": "code",
   "execution_count": 74,
   "metadata": {},
   "outputs": [],
   "source": [
    "splits = df_sealevel.randomSplit([0.7, 0.3])\n",
    "train_data = splits[0]\n",
    "test_data = splits[1]"
   ]
  },
  {
   "cell_type": "code",
   "execution_count": 75,
   "metadata": {},
   "outputs": [
    {
     "name": "stdout",
     "output_type": "stream",
     "text": [
      "Coefficients: [0.00018696317867064553,0.0010771441519401546,-8.410365577598224e-05,-0.0016133361668619558,-0.0010751325202025227,-0.0012045561388737622,0.0004559656703108655,0.00043436999148354965,0.008749902148559268,2.8757642032794637,25.006039981647632,21.767127716727344,-10.963187181528818,0.4150264877468609,-4.380100085168109]\n",
      "Intercept: -11.100620936997403\n"
     ]
    }
   ],
   "source": [
    "from pyspark.ml.regression import LinearRegression\n",
    "lr =LinearRegression(labelCol='prcp')\n",
    "lr_model = lr.fit(train_data)\n",
    "print(\"Coefficients: \" + str(lr_model.coefficients))\n",
    "print(\"Intercept: \" + str(lr_model.intercept))"
   ]
  },
  {
   "cell_type": "code",
   "execution_count": 76,
   "metadata": {},
   "outputs": [
    {
     "name": "stdout",
     "output_type": "stream",
     "text": [
      "RMSE: 24.889138\n",
      "r2: 0.221144\n"
     ]
    }
   ],
   "source": [
    "trainingSummary = lr_model.summary\n",
    "print(\"RMSE: %f\" % trainingSummary.rootMeanSquaredError)\n",
    "print(\"r2: %f\" % trainingSummary.r2)"
   ]
  },
  {
   "cell_type": "code",
   "execution_count": 80,
   "metadata": {},
   "outputs": [
    {
     "name": "stdout",
     "output_type": "stream",
     "text": [
      "+-------------------+----+--------------------+\n",
      "|         prediction|prcp|            features|\n",
      "+-------------------+----+--------------------+\n",
      "|-3.2483283871047766| 0.0|(15,[0,1,2,3,5,6,...|\n",
      "|  6.122335136415002| 0.0|(15,[0,1,2,4,5,6,...|\n",
      "|  6.105508622485781| 0.0|(15,[0,1,2,4,5,6,...|\n",
      "|  6.119242414244846| 0.0|(15,[0,1,2,4,5,6,...|\n",
      "|  6.123244758536378| 0.0|(15,[0,1,2,4,5,6,...|\n",
      "+-------------------+----+--------------------+\n",
      "only showing top 5 rows\n",
      "\n",
      "R Squared (R2) on test data = 0.22109\n"
     ]
    }
   ],
   "source": [
    "lr_predictions = lr_model.transform(test_data)\n",
    "lr_predictions.select(\"prediction\",\"prcp\",\"features\").show(5)\n",
    "from pyspark.ml.evaluation import RegressionEvaluator\n",
    "lr_evaluator = RegressionEvaluator(predictionCol=\"prediction\", \\\n",
    "                 labelCol=\"prcp\",metricName=\"r2\")\n",
    "print(\"R Squared (R2) on test data = %g\" % lr_evaluator.evaluate(lr_predictions))"
   ]
  },
  {
   "cell_type": "code",
   "execution_count": 81,
   "metadata": {},
   "outputs": [
    {
     "name": "stdout",
     "output_type": "stream",
     "text": [
      "Root Mean Squared Error (RMSE) on test data = 24.8886\n"
     ]
    }
   ],
   "source": [
    "test_result = lr_model.evaluate(test_data)\n",
    "print(\"Root Mean Squared Error (RMSE) on test data = %g\" % test_result.rootMeanSquaredError)"
   ]
  }
 ],
 "metadata": {
  "kernelspec": {
   "display_name": "Python 3",
   "language": "python",
   "name": "python3"
  },
  "language_info": {
   "codemirror_mode": {
    "name": "ipython",
    "version": 3
   },
   "file_extension": ".py",
   "mimetype": "text/x-python",
   "name": "python",
   "nbconvert_exporter": "python",
   "pygments_lexer": "ipython3",
   "version": "3.7.7"
  }
 },
 "nbformat": 4,
 "nbformat_minor": 4
}
